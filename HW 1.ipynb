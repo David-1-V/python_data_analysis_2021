{
 "cells": [
  {
   "cell_type": "code",
   "execution_count": 231,
   "metadata": {},
   "outputs": [],
   "source": [
    "import pandas as pd\n",
    "import scipy.stats\n",
    "%matplotlib inline"
   ]
  },
  {
   "cell_type": "code",
   "execution_count": 233,
   "metadata": {},
   "outputs": [
    {
     "data": {
      "application/javascript": [
       "IPython.notebook.set_autosave_interval(60000)"
      ]
     },
     "metadata": {},
     "output_type": "display_data"
    },
    {
     "name": "stdout",
     "output_type": "stream",
     "text": [
      "Autosaving every 60 seconds\n"
     ]
    }
   ],
   "source": [
    "%autosave 60"
   ]
  },
  {
   "cell_type": "code",
   "execution_count": 3,
   "metadata": {},
   "outputs": [],
   "source": [
    "data = pd.read_csv('./train.csv')"
   ]
  },
  {
   "cell_type": "code",
   "execution_count": 4,
   "metadata": {},
   "outputs": [
    {
     "data": {
      "text/html": [
       "<div>\n",
       "<style scoped>\n",
       "    .dataframe tbody tr th:only-of-type {\n",
       "        vertical-align: middle;\n",
       "    }\n",
       "\n",
       "    .dataframe tbody tr th {\n",
       "        vertical-align: top;\n",
       "    }\n",
       "\n",
       "    .dataframe thead th {\n",
       "        text-align: right;\n",
       "    }\n",
       "</style>\n",
       "<table border=\"1\" class=\"dataframe\">\n",
       "  <thead>\n",
       "    <tr style=\"text-align: right;\">\n",
       "      <th></th>\n",
       "      <th>PassengerId</th>\n",
       "      <th>Survived</th>\n",
       "      <th>Pclass</th>\n",
       "      <th>Name</th>\n",
       "      <th>Sex</th>\n",
       "      <th>Age</th>\n",
       "      <th>SibSp</th>\n",
       "      <th>Parch</th>\n",
       "      <th>Ticket</th>\n",
       "      <th>Fare</th>\n",
       "      <th>Cabin</th>\n",
       "      <th>Embarked</th>\n",
       "    </tr>\n",
       "  </thead>\n",
       "  <tbody>\n",
       "    <tr>\n",
       "      <th>0</th>\n",
       "      <td>1</td>\n",
       "      <td>0</td>\n",
       "      <td>3</td>\n",
       "      <td>Braund, Mr. Owen Harris</td>\n",
       "      <td>male</td>\n",
       "      <td>22.0</td>\n",
       "      <td>1</td>\n",
       "      <td>0</td>\n",
       "      <td>A/5 21171</td>\n",
       "      <td>7.2500</td>\n",
       "      <td>NaN</td>\n",
       "      <td>S</td>\n",
       "    </tr>\n",
       "    <tr>\n",
       "      <th>1</th>\n",
       "      <td>2</td>\n",
       "      <td>1</td>\n",
       "      <td>1</td>\n",
       "      <td>Cumings, Mrs. John Bradley (Florence Briggs Th...</td>\n",
       "      <td>female</td>\n",
       "      <td>38.0</td>\n",
       "      <td>1</td>\n",
       "      <td>0</td>\n",
       "      <td>PC 17599</td>\n",
       "      <td>71.2833</td>\n",
       "      <td>C85</td>\n",
       "      <td>C</td>\n",
       "    </tr>\n",
       "    <tr>\n",
       "      <th>2</th>\n",
       "      <td>3</td>\n",
       "      <td>1</td>\n",
       "      <td>3</td>\n",
       "      <td>Heikkinen, Miss. Laina</td>\n",
       "      <td>female</td>\n",
       "      <td>26.0</td>\n",
       "      <td>0</td>\n",
       "      <td>0</td>\n",
       "      <td>STON/O2. 3101282</td>\n",
       "      <td>7.9250</td>\n",
       "      <td>NaN</td>\n",
       "      <td>S</td>\n",
       "    </tr>\n",
       "    <tr>\n",
       "      <th>3</th>\n",
       "      <td>4</td>\n",
       "      <td>1</td>\n",
       "      <td>1</td>\n",
       "      <td>Futrelle, Mrs. Jacques Heath (Lily May Peel)</td>\n",
       "      <td>female</td>\n",
       "      <td>35.0</td>\n",
       "      <td>1</td>\n",
       "      <td>0</td>\n",
       "      <td>113803</td>\n",
       "      <td>53.1000</td>\n",
       "      <td>C123</td>\n",
       "      <td>S</td>\n",
       "    </tr>\n",
       "    <tr>\n",
       "      <th>4</th>\n",
       "      <td>5</td>\n",
       "      <td>0</td>\n",
       "      <td>3</td>\n",
       "      <td>Allen, Mr. William Henry</td>\n",
       "      <td>male</td>\n",
       "      <td>35.0</td>\n",
       "      <td>0</td>\n",
       "      <td>0</td>\n",
       "      <td>373450</td>\n",
       "      <td>8.0500</td>\n",
       "      <td>NaN</td>\n",
       "      <td>S</td>\n",
       "    </tr>\n",
       "    <tr>\n",
       "      <th>...</th>\n",
       "      <td>...</td>\n",
       "      <td>...</td>\n",
       "      <td>...</td>\n",
       "      <td>...</td>\n",
       "      <td>...</td>\n",
       "      <td>...</td>\n",
       "      <td>...</td>\n",
       "      <td>...</td>\n",
       "      <td>...</td>\n",
       "      <td>...</td>\n",
       "      <td>...</td>\n",
       "      <td>...</td>\n",
       "    </tr>\n",
       "    <tr>\n",
       "      <th>886</th>\n",
       "      <td>887</td>\n",
       "      <td>0</td>\n",
       "      <td>2</td>\n",
       "      <td>Montvila, Rev. Juozas</td>\n",
       "      <td>male</td>\n",
       "      <td>27.0</td>\n",
       "      <td>0</td>\n",
       "      <td>0</td>\n",
       "      <td>211536</td>\n",
       "      <td>13.0000</td>\n",
       "      <td>NaN</td>\n",
       "      <td>S</td>\n",
       "    </tr>\n",
       "    <tr>\n",
       "      <th>887</th>\n",
       "      <td>888</td>\n",
       "      <td>1</td>\n",
       "      <td>1</td>\n",
       "      <td>Graham, Miss. Margaret Edith</td>\n",
       "      <td>female</td>\n",
       "      <td>19.0</td>\n",
       "      <td>0</td>\n",
       "      <td>0</td>\n",
       "      <td>112053</td>\n",
       "      <td>30.0000</td>\n",
       "      <td>B42</td>\n",
       "      <td>S</td>\n",
       "    </tr>\n",
       "    <tr>\n",
       "      <th>888</th>\n",
       "      <td>889</td>\n",
       "      <td>0</td>\n",
       "      <td>3</td>\n",
       "      <td>Johnston, Miss. Catherine Helen \"Carrie\"</td>\n",
       "      <td>female</td>\n",
       "      <td>NaN</td>\n",
       "      <td>1</td>\n",
       "      <td>2</td>\n",
       "      <td>W./C. 6607</td>\n",
       "      <td>23.4500</td>\n",
       "      <td>NaN</td>\n",
       "      <td>S</td>\n",
       "    </tr>\n",
       "    <tr>\n",
       "      <th>889</th>\n",
       "      <td>890</td>\n",
       "      <td>1</td>\n",
       "      <td>1</td>\n",
       "      <td>Behr, Mr. Karl Howell</td>\n",
       "      <td>male</td>\n",
       "      <td>26.0</td>\n",
       "      <td>0</td>\n",
       "      <td>0</td>\n",
       "      <td>111369</td>\n",
       "      <td>30.0000</td>\n",
       "      <td>C148</td>\n",
       "      <td>C</td>\n",
       "    </tr>\n",
       "    <tr>\n",
       "      <th>890</th>\n",
       "      <td>891</td>\n",
       "      <td>0</td>\n",
       "      <td>3</td>\n",
       "      <td>Dooley, Mr. Patrick</td>\n",
       "      <td>male</td>\n",
       "      <td>32.0</td>\n",
       "      <td>0</td>\n",
       "      <td>0</td>\n",
       "      <td>370376</td>\n",
       "      <td>7.7500</td>\n",
       "      <td>NaN</td>\n",
       "      <td>Q</td>\n",
       "    </tr>\n",
       "  </tbody>\n",
       "</table>\n",
       "<p>891 rows × 12 columns</p>\n",
       "</div>"
      ],
      "text/plain": [
       "     PassengerId  Survived  Pclass  \\\n",
       "0              1         0       3   \n",
       "1              2         1       1   \n",
       "2              3         1       3   \n",
       "3              4         1       1   \n",
       "4              5         0       3   \n",
       "..           ...       ...     ...   \n",
       "886          887         0       2   \n",
       "887          888         1       1   \n",
       "888          889         0       3   \n",
       "889          890         1       1   \n",
       "890          891         0       3   \n",
       "\n",
       "                                                  Name     Sex   Age  SibSp  \\\n",
       "0                              Braund, Mr. Owen Harris    male  22.0      1   \n",
       "1    Cumings, Mrs. John Bradley (Florence Briggs Th...  female  38.0      1   \n",
       "2                               Heikkinen, Miss. Laina  female  26.0      0   \n",
       "3         Futrelle, Mrs. Jacques Heath (Lily May Peel)  female  35.0      1   \n",
       "4                             Allen, Mr. William Henry    male  35.0      0   \n",
       "..                                                 ...     ...   ...    ...   \n",
       "886                              Montvila, Rev. Juozas    male  27.0      0   \n",
       "887                       Graham, Miss. Margaret Edith  female  19.0      0   \n",
       "888           Johnston, Miss. Catherine Helen \"Carrie\"  female   NaN      1   \n",
       "889                              Behr, Mr. Karl Howell    male  26.0      0   \n",
       "890                                Dooley, Mr. Patrick    male  32.0      0   \n",
       "\n",
       "     Parch            Ticket     Fare Cabin Embarked  \n",
       "0        0         A/5 21171   7.2500   NaN        S  \n",
       "1        0          PC 17599  71.2833   C85        C  \n",
       "2        0  STON/O2. 3101282   7.9250   NaN        S  \n",
       "3        0            113803  53.1000  C123        S  \n",
       "4        0            373450   8.0500   NaN        S  \n",
       "..     ...               ...      ...   ...      ...  \n",
       "886      0            211536  13.0000   NaN        S  \n",
       "887      0            112053  30.0000   B42        S  \n",
       "888      2        W./C. 6607  23.4500   NaN        S  \n",
       "889      0            111369  30.0000  C148        C  \n",
       "890      0            370376   7.7500   NaN        Q  \n",
       "\n",
       "[891 rows x 12 columns]"
      ]
     },
     "execution_count": 4,
     "metadata": {},
     "output_type": "execute_result"
    }
   ],
   "source": [
    "data"
   ]
  },
  {
   "cell_type": "markdown",
   "metadata": {},
   "source": [
    "## План проведения анализа:\n",
    "Анализ данных будем проводить следующим образом:   \n",
    "    1) Построим таблицы сопряженности между двумя параметрами  \n",
    "    2) Применим метод хи-квадрат для выяснения связи между величинами  \n",
    "    3) Построим гистограммы, сделаем соответствующие выводы  "
   ]
  },
  {
   "cell_type": "markdown",
   "metadata": {},
   "source": [
    "## Важное замечание относительно гипотез:\n",
    "При проведении данного анализа будут проверяться гипотезы о равенстве средних, то есть гипотезы о том, что выживаемость не зависит от какого-либо параметра (иначе, вероятность выжить одинакова в каждой из параметрических подгрупп). Затем, в ходе анализа (в частности, с помощью метода хи-квадрат), данные гипотезы будут либо подтверждаться, либо опровергаться."
   ]
  },
  {
   "cell_type": "markdown",
   "metadata": {},
   "source": [
    "## Выживаемость - класс"
   ]
  },
  {
   "cell_type": "code",
   "execution_count": 204,
   "metadata": {},
   "outputs": [
    {
     "name": "stdout",
     "output_type": "stream",
     "text": [
      "Pclass      1   2    3\n",
      "Survived              \n",
      "0          80  97  372\n",
      "1         136  87  119\n",
      "test Statistics: 102.88898875696056\n",
      "degrees of freedom: 2\n",
      "p-value: 4.549251711298793e-23\n",
      "\n"
     ]
    }
   ],
   "source": [
    "contingency = pd.crosstab(data['Survived'], data['Pclass'])\n",
    "print(contingency)\n",
    "chi2, prob, df, expected = scipy.stats.chi2_contingency(contingency) \n",
    "\n",
    "output = \"test Statistics: {}\\ndegrees of freedom: {}\\np-value: {}\\n\"\n",
    "\n",
    "print(output.format( chi2, df, prob))"
   ]
  },
  {
   "cell_type": "markdown",
   "metadata": {},
   "source": [
    "### Вывод:\n",
    "Параметр p-value показывает вероятность получить такие же результаты или более экстремальные результаты при условии того, что верна нулевая гипотеза (по умолчанию - гипотеза о равенстве средних, то есть вероятность выжить в любом классе одинакова). В данном случае вероятность того, что выживаемость не зависит от класса составляет 10^(-23)."
   ]
  },
  {
   "cell_type": "code",
   "execution_count": 244,
   "metadata": {},
   "outputs": [
    {
     "data": {
      "text/plain": [
       "<matplotlib.legend.Legend at 0x1f66d22d850>"
      ]
     },
     "execution_count": 244,
     "metadata": {},
     "output_type": "execute_result"
    },
    {
     "data": {
      "image/png": "[encoded data removed]",
      "text/plain": [
       "<Figure size 720x720 with 1 Axes>"
      ]
     },
     "metadata": {
      "needs_background": "light"
     },
     "output_type": "display_data"
    }
   ],
   "source": [
    "ax = data['Pclass'].hist(figsize=(10, 10), bins=10, edgecolor='white', grid=True, color='red')\n",
    "\n",
    "data[data['Survived'] == 1]['Pclass'].hist(figsize=(10, 10), bins=10, edgecolor='white', grid=True,  color='blue')\n",
    "ax.legend(['Nonsurvived', 'Survived'], prop={'size':16})"
   ]
  },
  {
   "cell_type": "markdown",
   "metadata": {},
   "source": [
    "Как видно из диаграммы, выживаемость зависит от класса (действительно, вероятность того, что от класса она не зависит очень мала). "
   ]
  },
  {
   "cell_type": "markdown",
   "metadata": {},
   "source": [
    "### Замечание: \n",
    "Параметр p-value может показывать, с какой вероятностью мы можем получить такие же данные или более экстремальные данные при условии того, что верна нулевая гипотеза, но не показывает вероятность того, что нулевая гипотеза верна. Поэтому в случае высоких значений p-value будем говорить, о \"принятии\" нулевой гипотезы как одного из возможных предположений, не имея в виду при этом вероятность того, что такая гипотеза верна. При низких значениях p-value будем говорить о \"принятии\" альтернативной гипотезы, не имея в виду при этом, что вероятность альтернативной гипотезы равна разности между 1 и p-value."
   ]
  },
  {
   "cell_type": "markdown",
   "metadata": {},
   "source": [
    "## Выживаемость - возраст"
   ]
  },
  {
   "cell_type": "markdown",
   "metadata": {},
   "source": [
    "Первое, что сделаем - разобьем пассажиров на группы по возрастам с интервалом 10. Далее построим таблицы сопряженности."
   ]
  },
  {
   "cell_type": "code",
   "execution_count": 164,
   "metadata": {},
   "outputs": [],
   "source": [
    "df_0=data[(data['Age'] <10)]\n",
    "df_1=data[(data['Age'] >10) & (data['Age'] <20)]\n",
    "df_2=data[(data['Age'] >20) & (data['Age'] <30)]\n",
    "df_3=data[(data['Age'] >30) & (data['Age'] <40)]\n",
    "df_4=data[(data['Age'] >40) & (data['Age'] <50)]\n",
    "df_5=data[(data['Age'] >50) & (data['Age'] <60)]\n",
    "df_6=data[(data['Age'] >60) & (data['Age'] <70)]\n",
    "df_7=data[(data['Age'] >70)]"
   ]
  },
  {
   "cell_type": "code",
   "execution_count": 155,
   "metadata": {},
   "outputs": [
    {
     "name": "stdout",
     "output_type": "stream",
     "text": [
      "Age       0.42  0.67  0.75  0.83  0.92  1.00  2.00  3.00  4.00  5.00  6.00  \\\n",
      "Survived                                                                     \n",
      "0            0     0     0     0     0     2     7     1     3     0     1   \n",
      "1            1     1     2     2     1     5     3     5     7     4     2   \n",
      "\n",
      "Age       7.00  8.00  9.00  \n",
      "Survived                    \n",
      "0            2     2     6  \n",
      "1            1     2     2  \n",
      "test Statistics: 18.606474519632417\n",
      "degrees of freedom: 13\n",
      "p-value: 0.13581946501090328\n",
      "\n"
     ]
    }
   ],
   "source": [
    "contingency = pd.crosstab(df_0['Survived'], data['Age'])\n",
    "print(contingency)\n",
    "chi2, prob, df, expected = scipy.stats.chi2_contingency(contingency) \n",
    "\n",
    "output = \"test Statistics: {}\\ndegrees of freedom: {}\\np-value: {}\\n\"\n",
    "\n",
    "print(output.format( chi2, df, prob))"
   ]
  },
  {
   "cell_type": "code",
   "execution_count": 156,
   "metadata": {},
   "outputs": [
    {
     "name": "stdout",
     "output_type": "stream",
     "text": [
      "Age       11.0  12.0  13.0  14.0  14.5  15.0  16.0  17.0  18.0  19.0\n",
      "Survived                                                            \n",
      "0            3     0     0     3     1     1    11     7    17    16\n",
      "1            1     1     2     3     0     4     6     6     9     9\n",
      "test Statistics: 9.848129158490758\n",
      "degrees of freedom: 9\n",
      "p-value: 0.36291946490093646\n",
      "\n"
     ]
    }
   ],
   "source": [
    "contingency = pd.crosstab(df_1['Survived'], data['Age'])\n",
    "print(contingency)\n",
    "chi2, prob, df, expected = scipy.stats.chi2_contingency(contingency) \n",
    "\n",
    "output = \"test Statistics: {}\\ndegrees of freedom: {}\\np-value: {}\\n\"\n",
    "\n",
    "print(output.format( chi2, df, prob))"
   ]
  },
  {
   "cell_type": "code",
   "execution_count": 157,
   "metadata": {},
   "outputs": [
    {
     "name": "stdout",
     "output_type": "stream",
     "text": [
      "Age       20.5  21.0  22.0  23.0  23.5  24.0  24.5  25.0  26.0  27.0  28.0  \\\n",
      "Survived                                                                     \n",
      "0            1    19    16    10     1    15     1    17    12     7    18   \n",
      "1            0     5    11     5     0    15     0     6     6    11     7   \n",
      "\n",
      "Age       28.5  29.0  \n",
      "Survived              \n",
      "0            2    12  \n",
      "1            0     8  \n",
      "test Statistics: 14.848165602542467\n",
      "degrees of freedom: 12\n",
      "p-value: 0.24984509144338696\n",
      "\n"
     ]
    }
   ],
   "source": [
    "contingency = pd.crosstab(df_2['Survived'], data['Age'])\n",
    "print(contingency)\n",
    "chi2, prob, df, expected = scipy.stats.chi2_contingency(contingency) \n",
    "\n",
    "output = \"test Statistics: {}\\ndegrees of freedom: {}\\np-value: {}\\n\"\n",
    "\n",
    "print(output.format( chi2, df, prob))"
   ]
  },
  {
   "cell_type": "code",
   "execution_count": 158,
   "metadata": {},
   "outputs": [
    {
     "name": "stdout",
     "output_type": "stream",
     "text": [
      "Age       30.5  31.0  32.0  32.5  33.0  34.0  34.5  35.0  36.0  36.5  37.0  \\\n",
      "Survived                                                                     \n",
      "0            2     9     9     1     9     9     1     7    11     1     5   \n",
      "1            0     8     9     1     6     6     0    11    11     0     1   \n",
      "\n",
      "Age       38.0  39.0  \n",
      "Survived              \n",
      "0            6     9  \n",
      "1            5     5  \n",
      "test Statistics: 8.351356349555124\n",
      "degrees of freedom: 12\n",
      "p-value: 0.7571057310608691\n",
      "\n"
     ]
    }
   ],
   "source": [
    "contingency = pd.crosstab(df_3['Survived'], data['Age'])\n",
    "print(contingency)\n",
    "chi2, prob, df, expected = scipy.stats.chi2_contingency(contingency) \n",
    "\n",
    "output = \"test Statistics: {}\\ndegrees of freedom: {}\\np-value: {}\\n\"\n",
    "\n",
    "print(output.format( chi2, df, prob))"
   ]
  },
  {
   "cell_type": "code",
   "execution_count": 159,
   "metadata": {},
   "outputs": [
    {
     "name": "stdout",
     "output_type": "stream",
     "text": [
      "Age       40.5  41.0  42.0  43.0  44.0  45.0  45.5  46.0  47.0  48.0  49.0\n",
      "Survived                                                                  \n",
      "0            2     4     7     4     6     7     2     3     8     3     2\n",
      "1            0     2     6     1     3     5     0     0     1     6     4\n",
      "test Statistics: 13.671667684167685\n",
      "degrees of freedom: 10\n",
      "p-value: 0.18850142228758546\n",
      "\n"
     ]
    }
   ],
   "source": [
    "contingency = pd.crosstab(df_4['Survived'], data['Age'])\n",
    "print(contingency)\n",
    "chi2, prob, df, expected = scipy.stats.chi2_contingency(contingency) \n",
    "\n",
    "output = \"test Statistics: {}\\ndegrees of freedom: {}\\np-value: {}\\n\"\n",
    "\n",
    "print(output.format( chi2, df, prob))"
   ]
  },
  {
   "cell_type": "code",
   "execution_count": 160,
   "metadata": {},
   "outputs": [
    {
     "name": "stdout",
     "output_type": "stream",
     "text": [
      "Age       51.0  52.0  53.0  54.0  55.0  55.5  56.0  57.0  58.0  59.0\n",
      "Survived                                                            \n",
      "0            5     3     0     5     1     1     2     2     2     2\n",
      "1            2     3     1     3     1     0     2     0     3     0\n",
      "test Statistics: 6.593747412008283\n",
      "degrees of freedom: 9\n",
      "p-value: 0.6793328849876921\n",
      "\n"
     ]
    }
   ],
   "source": [
    "contingency = pd.crosstab(df_5['Survived'], data['Age'])\n",
    "print(contingency)\n",
    "chi2, prob, df, expected = scipy.stats.chi2_contingency(contingency) \n",
    "\n",
    "output = \"test Statistics: {}\\ndegrees of freedom: {}\\np-value: {}\\n\"\n",
    "\n",
    "print(output.format( chi2, df, prob))"
   ]
  },
  {
   "cell_type": "code",
   "execution_count": 161,
   "metadata": {},
   "outputs": [
    {
     "name": "stdout",
     "output_type": "stream",
     "text": [
      "Age       61.0  62.0  63.0  64.0  65.0  66.0\n",
      "Survived                                    \n",
      "0            3     2     0     2     3     1\n",
      "1            0     2     2     0     0     0\n",
      "test Statistics: 9.886363636363638\n",
      "degrees of freedom: 5\n",
      "p-value: 0.07851986250143839\n",
      "\n"
     ]
    }
   ],
   "source": [
    "contingency = pd.crosstab(df_6['Survived'], data['Age'])\n",
    "print(contingency)\n",
    "chi2, prob, df, expected = scipy.stats.chi2_contingency(contingency) \n",
    "\n",
    "output = \"test Statistics: {}\\ndegrees of freedom: {}\\np-value: {}\\n\"\n",
    "\n",
    "print(output.format( chi2, df, prob))"
   ]
  },
  {
   "cell_type": "code",
   "execution_count": 165,
   "metadata": {},
   "outputs": [
    {
     "name": "stdout",
     "output_type": "stream",
     "text": [
      "Age       70.5  71.0  74.0  80.0\n",
      "Survived                        \n",
      "0            1     2     1     0\n",
      "1            0     0     0     1\n",
      "test Statistics: 5.000000000000001\n",
      "degrees of freedom: 3\n",
      "p-value: 0.17179714429673348\n",
      "\n"
     ]
    }
   ],
   "source": [
    "contingency = pd.crosstab(df_7['Survived'], data['Age'])\n",
    "print(contingency)\n",
    "chi2, prob, df, expected = scipy.stats.chi2_contingency(contingency) \n",
    "\n",
    "output = \"test Statistics: {}\\ndegrees of freedom: {}\\np-value: {}\\n\"\n",
    "\n",
    "print(output.format( chi2, df, prob))"
   ]
  },
  {
   "cell_type": "markdown",
   "metadata": {},
   "source": [
    "### Вывод:\n",
    "Полученные значения хи-квадрат говорят о том, что вероятность получить такие данные (или более экстремальные) при условии выполнения гипотезы о равенстве средних составляют от 17 до 76%. Таким образом, в большинстве возрастных групп гипотезу о равенстве средних можно принять, то есть выживаемость довольно слабо зависит от возраста пассажиров."
   ]
  },
  {
   "cell_type": "code",
   "execution_count": 173,
   "metadata": {},
   "outputs": [
    {
     "data": {
      "text/plain": [
       "<matplotlib.legend.Legend at 0x1f6604a4fd0>"
      ]
     },
     "execution_count": 173,
     "metadata": {},
     "output_type": "execute_result"
    },
    {
     "data": {
      "image/png": "[encoded data removed]",
      "text/plain": [
       "<Figure size 720x720 with 1 Axes>"
      ]
     },
     "metadata": {
      "needs_background": "light"
     },
     "output_type": "display_data"
    }
   ],
   "source": [
    "ax = data['Age'].hist(figsize=(10, 10), bins=80, edgecolor='white', grid=True, color='red')\n",
    "\n",
    "data[data['Survived'] == 1]['Age'].hist(figsize=(10, 10), bins=80, edgecolor='white', grid=True,  color='blue')\n",
    "ax.legend(['Nonsurvived', 'Survived'], prop={'size':16})"
   ]
  },
  {
   "cell_type": "markdown",
   "metadata": {},
   "source": [
    "Полученный с помощью метода хи-квадрат вывод подтверждается гистограммой возраст-выживаемость, на которой не заметно слишком резких скачков в выживаемости в каждой из возрастных категорий. Итак, выживаемость зависит от возраста в довольно маленькой степени."
   ]
  },
  {
   "cell_type": "markdown",
   "metadata": {},
   "source": [
    "## Выживаемость - пол"
   ]
  },
  {
   "cell_type": "code",
   "execution_count": 205,
   "metadata": {},
   "outputs": [
    {
     "name": "stdout",
     "output_type": "stream",
     "text": [
      "Sex       female  male\n",
      "Survived              \n",
      "0             81   468\n",
      "1            233   109\n",
      "test Statistics: 260.71702016732104\n",
      "degrees of freedom: 1\n",
      "p-value: 1.1973570627755645e-58\n",
      "\n"
     ]
    }
   ],
   "source": [
    "contingency = pd.crosstab(data['Survived'], data['Sex']) \n",
    "print(contingency)\n",
    "chi2, prob, df, expected = scipy.stats.chi2_contingency(contingency) \n",
    "\n",
    "output = \"test Statistics: {}\\ndegrees of freedom: {}\\np-value: {}\\n\"\n",
    "\n",
    "print(output.format( chi2, df, prob))"
   ]
  },
  {
   "cell_type": "markdown",
   "metadata": {},
   "source": [
    "### Вывод:\n",
    "Вероятность того, что выживаемость не зависит от пола составляет 10^(-58). Значит, логично предположить, что выживаемость зависит от пола."
   ]
  },
  {
   "cell_type": "code",
   "execution_count": 189,
   "metadata": {},
   "outputs": [
    {
     "data": {
      "text/plain": [
       "<matplotlib.legend.Legend at 0x1f65e365430>"
      ]
     },
     "execution_count": 189,
     "metadata": {},
     "output_type": "execute_result"
    },
    {
     "data": {
      "image/png": "[encoded data removed]",
      "text/plain": [
       "<Figure size 720x720 with 1 Axes>"
      ]
     },
     "metadata": {
      "needs_background": "light"
     },
     "output_type": "display_data"
    }
   ],
   "source": [
    "ax = data['Sex'].hist(figsize=(10, 10), bins=3, edgecolor='white', grid=True, color='red')\n",
    "\n",
    "data[data['Survived'] == 1]['Sex'].hist(figsize=(10, 10), bins=3, edgecolor='white', grid=True,  color='blue')\n",
    "ax.legend(['Nonsurvived', 'Survived'], prop={'size':16})"
   ]
  },
  {
   "cell_type": "markdown",
   "metadata": {},
   "source": [
    "Как видно из диаграммы, количество выживших среди женщин довольно резко отличается от количества выживших среди мужчин. Итак, выживаемость зависит от пола."
   ]
  },
  {
   "cell_type": "markdown",
   "metadata": {},
   "source": [
    "## Выживаемость - число братьев и сестер "
   ]
  },
  {
   "cell_type": "code",
   "execution_count": 192,
   "metadata": {},
   "outputs": [
    {
     "name": "stdout",
     "output_type": "stream",
     "text": [
      "SibSp       0    1   2   3   4  5  8\n",
      "Survived                            \n",
      "0         398   97  15  12  15  5  7\n",
      "1         210  112  13   4   3  0  0\n",
      "test Statistics: 37.27179291520431\n",
      "degrees of freedom: 6\n",
      "p-value: 1.5585810465902116e-06\n",
      "\n"
     ]
    }
   ],
   "source": [
    "contingency = pd.crosstab(data['Survived'], data['SibSp']) \n",
    "print(contingency)\n",
    "chi2, prob, df, expected = scipy.stats.chi2_contingency(contingency) \n",
    "\n",
    "output = \"test Statistics: {}\\ndegrees of freedom: {}\\np-value: {}\\n\"\n",
    "\n",
    "print(output.format( chi2, df, prob))"
   ]
  },
  {
   "cell_type": "markdown",
   "metadata": {},
   "source": [
    "### Вывод:\n",
    "Вероятность того, что выживаемость не зависит от числа братьев и сестер составляет 10^(-6). Поэтому предположим, что выживаемость зависит от данного параметра."
   ]
  },
  {
   "cell_type": "code",
   "execution_count": 227,
   "metadata": {},
   "outputs": [
    {
     "data": {
      "text/plain": [
       "<matplotlib.legend.Legend at 0x1f666244ee0>"
      ]
     },
     "execution_count": 227,
     "metadata": {},
     "output_type": "execute_result"
    },
    {
     "data": {
      "image/png": "[encoded data removed]",
      "text/plain": [
       "<Figure size 1800x720 with 1 Axes>"
      ]
     },
     "metadata": {
      "needs_background": "light"
     },
     "output_type": "display_data"
    }
   ],
   "source": [
    "ax = data['SibSp'].hist(figsize=(15, 10), bins=30, edgecolor='white', grid=True, color='red')\n",
    "data[data['Survived'] == 1]['SibSp'].hist(figsize=(25, 10), bins=15, edgecolor='white', grid=True,  color='blue')\n",
    "ax.legend(['Nonsurvived', 'Survived'], prop={'size':16})"
   ]
  },
  {
   "cell_type": "markdown",
   "metadata": {},
   "source": [
    "Таким образом, можно утверждать, что количество братьев и сестер является фактором, влияющим на выживаемость, причем, как видно из диаграммы, зависимость между выживаемостью и количеством братьев и сестер обратная."
   ]
  },
  {
   "cell_type": "markdown",
   "metadata": {},
   "source": [
    "## Выживаемость - число родителей/детей"
   ]
  },
  {
   "cell_type": "code",
   "execution_count": 186,
   "metadata": {},
   "outputs": [
    {
     "name": "stdout",
     "output_type": "stream",
     "text": [
      "Parch       0   1   2  3  4  5  6\n",
      "Survived                         \n",
      "0         445  53  40  2  4  4  1\n",
      "1         233  65  40  3  0  1  0\n",
      "test Statistics: 27.925784060236168\n",
      "degrees of freedom: 6\n",
      "p-value: 9.703526421039997e-05\n",
      "\n"
     ]
    }
   ],
   "source": [
    "contingency = pd.crosstab(data['Survived'], data['Parch']) \n",
    "print(contingency)\n",
    "chi2, prob, df, expected = scipy.stats.chi2_contingency(contingency) \n",
    "\n",
    "output = \"test Statistics: {}\\ndegrees of freedom: {}\\np-value: {}\\n\"\n",
    "\n",
    "print(output.format( chi2, df, prob))"
   ]
  },
  {
   "cell_type": "markdown",
   "metadata": {},
   "source": [
    "### Вывод:\n",
    "Вероятность того, что выживаемость не зависит от числа родителей/детей составляет 10^(-5). Покажем, что число родителей/детей является параметром, влияющим на выживаемость."
   ]
  },
  {
   "cell_type": "code",
   "execution_count": 255,
   "metadata": {},
   "outputs": [
    {
     "data": {
      "text/plain": [
       "<matplotlib.legend.Legend at 0x1f66e4d1df0>"
      ]
     },
     "execution_count": 255,
     "metadata": {},
     "output_type": "execute_result"
    },
    {
     "data": {
      "image/png": "[encoded data removed]",
      "text/plain": [
       "<Figure size 720x720 with 1 Axes>"
      ]
     },
     "metadata": {
      "needs_background": "light"
     },
     "output_type": "display_data"
    }
   ],
   "source": [
    "ax = data['Parch'].hist(figsize=(10, 10), bins=25, edgecolor='white', grid=True, color='red')\n",
    "\n",
    "data[data['Survived'] == 1]['Parch'].hist(figsize=(10, 10), bins=20, edgecolor='white', grid=True,  color='blue')\n",
    "ax.legend(['Nonsurvived', 'Survived'], prop={'size':16})"
   ]
  },
  {
   "cell_type": "markdown",
   "metadata": {},
   "source": [
    "На данной диаграмме опять же наблюдаем обратную зависимость между числом родителей (детей) и количеством выживших. Итак, фактор \"количество родителей (детей)\" является значащим для параметра \"выживаемость\"."
   ]
  },
  {
   "cell_type": "markdown",
   "metadata": {},
   "source": [
    "## Выживаемость - число членов семьи"
   ]
  },
  {
   "cell_type": "markdown",
   "metadata": {},
   "source": [
    "Для проведения этой части анализа создадим столбец Family, который является суммой столбцов Parch и SibSp."
   ]
  },
  {
   "cell_type": "code",
   "execution_count": 262,
   "metadata": {},
   "outputs": [],
   "source": [
    "data['Family']=data['SibSp']+data['Parch']"
   ]
  },
  {
   "cell_type": "code",
   "execution_count": 265,
   "metadata": {},
   "outputs": [
    {
     "name": "stdout",
     "output_type": "stream",
     "text": [
      "Family     0   1   2   3   4   5   6   7   10\n",
      "Survived                                     \n",
      "0         374  72  43   8  12  19   8   6   7\n",
      "1         163  89  59  21   3   3   4   0   0\n",
      "test Statistics: 80.67231343783078\n",
      "degrees of freedom: 8\n",
      "p-value: 3.579668975443533e-14\n",
      "\n"
     ]
    }
   ],
   "source": [
    "contingency = pd.crosstab(data['Survived'], data['Family']) \n",
    "print(contingency)\n",
    "chi2, prob, df, expected = scipy.stats.chi2_contingency(contingency) \n",
    "\n",
    "output = \"test Statistics: {}\\ndegrees of freedom: {}\\np-value: {}\\n\"\n",
    "\n",
    "print(output.format( chi2, df, prob))"
   ]
  },
  {
   "cell_type": "markdown",
   "metadata": {},
   "source": [
    "### Вывод\n",
    "Как можно видеть, вероятность того, что гипотеза о равенстве средних верна составляет 10^(-14). С помощью диаграммы покажем, что число членов семьи является значащим фактором для параметра \"выживаемость\"."
   ]
  },
  {
   "cell_type": "code",
   "execution_count": 272,
   "metadata": {},
   "outputs": [
    {
     "data": {
      "text/plain": [
       "<matplotlib.legend.Legend at 0x1f66fe33640>"
      ]
     },
     "execution_count": 272,
     "metadata": {},
     "output_type": "execute_result"
    },
    {
     "data": {
      "image/png": "[encoded data removed]",
      "text/plain": [
       "<Figure size 720x360 with 1 Axes>"
      ]
     },
     "metadata": {
      "needs_background": "light"
     },
     "output_type": "display_data"
    }
   ],
   "source": [
    "ax = data['Family'].hist(figsize=(10, 5), bins=50, edgecolor='white', grid=True, color='red')\n",
    "\n",
    "data[data['Survived'] == 1]['Family'].hist(figsize=(10, 5), bins=50, edgecolor='white', grid=True,  color='blue')\n",
    "ax.legend(['Nonsurvived', 'Survived'], prop={'size':16})"
   ]
  },
  {
   "cell_type": "markdown",
   "metadata": {},
   "source": [
    "По диаграмме видна обратная зависимость между выживаемостью и числом членов семьи. Наблюдение вполне логично, так как столбец 'Family' представляет собой сумму столбцов 'SibSp' и 'Parch', при этом при анализе влияния 'SibSp' и 'Parch' на параметр \"Выживаемость\" наблюдалась обратная зависимость. "
   ]
  },
  {
   "cell_type": "markdown",
   "metadata": {},
   "source": [
    "## Выживаемость - порт"
   ]
  },
  {
   "cell_type": "code",
   "execution_count": 256,
   "metadata": {},
   "outputs": [
    {
     "name": "stdout",
     "output_type": "stream",
     "text": [
      "Embarked   C   Q    S\n",
      "Survived             \n",
      "0         75  47  427\n",
      "1         93  30  217\n",
      "test Statistics: 26.48914983923762\n",
      "degrees of freedom: 2\n",
      "p-value: 1.769922284120912e-06\n",
      "\n"
     ]
    }
   ],
   "source": [
    "contingency = pd.crosstab(data['Survived'], data['Embarked']) \n",
    "print(contingency)\n",
    "chi2, prob, df, expected = scipy.stats.chi2_contingency(contingency) \n",
    "\n",
    "output = \"test Statistics: {}\\ndegrees of freedom: {}\\np-value: {}\\n\"\n",
    "\n",
    "print(output.format( chi2, df, prob))"
   ]
  },
  {
   "cell_type": "markdown",
   "metadata": {},
   "source": [
    "### Вывод:\n",
    "Вероятность того, что выживаемость не зависит от порта составляет 10^(-6). С помощью диаграммы покажем, что порт является значащим фактором для параметра \"выживаемость\"."
   ]
  },
  {
   "cell_type": "code",
   "execution_count": 261,
   "metadata": {},
   "outputs": [
    {
     "data": {
      "text/plain": [
       "<matplotlib.legend.Legend at 0x1f66f09a040>"
      ]
     },
     "execution_count": 261,
     "metadata": {},
     "output_type": "execute_result"
    },
    {
     "data": {
      "image/png": "[encoded data removed]",
      "text/plain": [
       "<Figure size 720x720 with 1 Axes>"
      ]
     },
     "metadata": {
      "needs_background": "light"
     },
     "output_type": "display_data"
    }
   ],
   "source": [
    "ax = data['Embarked'].hist(figsize=(10, 10), bins=5, edgecolor='white', grid=True, color='red')\n",
    "\n",
    "data[data['Survived'] == 1]['Embarked'].hist(figsize=(10, 10), bins=5, edgecolor='white', grid=True,  color='blue')\n",
    "ax.legend(['Nonsurvived', 'Survived'], prop={'size':16})"
   ]
  },
  {
   "cell_type": "markdown",
   "metadata": {},
   "source": [
    "На данной диаграмме видим еще один пример обратной зависимости между фактором \"порт\" и между параметром \"выживаемость\"."
   ]
  },
  {
   "cell_type": "markdown",
   "metadata": {},
   "source": [
    "# Итоги анализа"
   ]
  },
  {
   "cell_type": "markdown",
   "metadata": {},
   "source": [
    "Проанализировав предложенные данные, получили, что выживаемость зависит от класса, пола, числа братьев и сестер, числа родителей/детей, числа членов семьи (как суммарный параметр числа братьев и сестер и родителей), порта посадки, причем в последних четырех случаях наблюдается обратная зависимость между фактором и выживаемостью (в данном случае, считаем, что буквы S,C,Q обозначают упорядоченные порты посадки, то есть первый, второй и третий соответственно). Единственным параметром, влияющим на выживаемость в меньшей степени (нельзя говорить об отсутствии влияния вообще в силу определения p-value), является возраст пассажиров."
   ]
  }
 ],
 "metadata": {
  "kernelspec": {
   "display_name": "Python 3",
   "language": "python",
   "name": "python3"
  },
  "language_info": {
   "codemirror_mode": {
    "name": "ipython",
    "version": 3
   },
   "file_extension": ".py",
   "mimetype": "text/x-python",
   "name": "python",
   "nbconvert_exporter": "python",
   "pygments_lexer": "ipython3",
   "version": "3.8.3"
  }
 },
 "nbformat": 4,
 "nbformat_minor": 4
}
